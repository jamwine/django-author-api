{
 "cells": [
  {
   "cell_type": "code",
   "execution_count": 37,
   "id": "024b8115-37d6-49f0-b04d-2c57fbcecd13",
   "metadata": {},
   "outputs": [],
   "source": [
    "import os\n",
    "import django\n",
    "import sys\n",
    "# from asgiref.sync import sync_to_async\n",
    "from django.contrib.auth import get_user_model\n",
    "from django_apps.profiles.models import Profile\n",
    "\n",
    "sys.path.append(\"/app\")\n",
    "\n",
    "# Set the environment variable\n",
    "os.environ['DJANGO_SETTINGS_MODULE'] = 'Author_Api.settings.local'\n",
    "os.environ[\"DJANGO_ALLOW_ASYNC_UNSAFE\"] = \"true\"\n",
    "\n",
    "django.setup()"
   ]
  },
  {
   "cell_type": "markdown",
   "id": "f4d2cc03-4ee6-48d5-b517-a059f86e19d9",
   "metadata": {},
   "source": [
    "* https://stackoverflow.com/questions/61926359/django-synchronousonlyoperation-you-cannot-call-this-from-an-async-context-u"
   ]
  },
  {
   "cell_type": "code",
   "execution_count": 32,
   "id": "ddda4504-025e-43be-aafb-7c4b070a4f74",
   "metadata": {},
   "outputs": [],
   "source": [
    "# # Define an asynchronous function to fetch users\n",
    "# async def fetch_users():\n",
    "#     User = get_user_model()\n",
    "#     users = await sync_to_async(list)(User.objects.all())\n",
    "#     return users\n",
    "\n",
    "# # Use await to call the asynchronous function directly\n",
    "# users = await fetch_users()\n",
    "# users"
   ]
  },
  {
   "cell_type": "code",
   "execution_count": 33,
   "id": "0356ee07-b6de-41c3-936e-71bb2a001843",
   "metadata": {},
   "outputs": [],
   "source": [
    "# from django_apps.profiles.models import Profile\n",
    "\n",
    "# @sync_to_async\n",
    "# def get_profile(user):\n",
    "#     return Profile.objects.get(user=user)\n",
    "    \n",
    "# # Assuming `users` is a list of user instances\n",
    "# async def get_profiles(users):\n",
    "#     profiles = []\n",
    "#     for user in users:\n",
    "#         profile = await get_profile(user)\n",
    "#         profiles.append(profile)\n",
    "#     return profiles"
   ]
  },
  {
   "cell_type": "code",
   "execution_count": 35,
   "id": "15b63ed0-c921-4b60-8bb0-b7000fb622cd",
   "metadata": {},
   "outputs": [],
   "source": [
    "# profiles = get_profiles(users)\n",
    "# profiles"
   ]
  },
  {
   "cell_type": "code",
   "execution_count": 36,
   "id": "18ad5b05-e9d3-4305-9455-cdca462546f6",
   "metadata": {},
   "outputs": [
    {
     "data": {
      "text/plain": [
       "<QuerySet [<User: Admin>]>"
      ]
     },
     "execution_count": 36,
     "metadata": {},
     "output_type": "execute_result"
    }
   ],
   "source": [
    "User = get_user_model()\n",
    "User.objects.all()"
   ]
  },
  {
   "cell_type": "code",
   "execution_count": 43,
   "id": "ca5da27c-0450-4e5d-9e8d-f3b2dcda4f51",
   "metadata": {},
   "outputs": [
    {
     "data": {
      "text/plain": [
       "<QuerySet [<User: Admin>]>"
      ]
     },
     "execution_count": 43,
     "metadata": {},
     "output_type": "execute_result"
    }
   ],
   "source": [
    "User.objects.filter(first_name='Admin')"
   ]
  },
  {
   "cell_type": "code",
   "execution_count": 45,
   "id": "6b405ec9-73c0-42d1-b72a-ed06aede2845",
   "metadata": {},
   "outputs": [
    {
     "data": {
      "text/plain": [
       "<QuerySet [<User: Admin>]>"
      ]
     },
     "execution_count": 45,
     "metadata": {},
     "output_type": "execute_result"
    }
   ],
   "source": [
    "User.objects.filter(first_name__startswith='Ad')"
   ]
  },
  {
   "cell_type": "code",
   "execution_count": 5,
   "id": "75a69426-c68d-4048-abe3-fb69c26fce7e",
   "metadata": {},
   "outputs": [
    {
     "data": {
      "text/plain": [
       "[('M', 'Male'), ('F', 'Female'), ('O', 'Other')]"
      ]
     },
     "execution_count": 5,
     "metadata": {},
     "output_type": "execute_result"
    }
   ],
   "source": [
    "Profile.Gender.choices"
   ]
  },
  {
   "cell_type": "code",
   "execution_count": 6,
   "id": "29bf7d83-03af-4ef1-9cc8-38511eae0704",
   "metadata": {},
   "outputs": [
    {
     "data": {
      "text/plain": [
       "['Male', 'Female', 'Other']"
      ]
     },
     "execution_count": 6,
     "metadata": {},
     "output_type": "execute_result"
    }
   ],
   "source": [
    "Profile.Gender.labels"
   ]
  },
  {
   "cell_type": "code",
   "execution_count": 7,
   "id": "c918c08c-abaf-402b-bc22-8b8b7a3fecae",
   "metadata": {},
   "outputs": [
    {
     "data": {
      "text/plain": [
       "['M', 'F', 'O']"
      ]
     },
     "execution_count": 7,
     "metadata": {},
     "output_type": "execute_result"
    }
   ],
   "source": [
    "Profile.Gender.values"
   ]
  },
  {
   "cell_type": "code",
   "execution_count": 8,
   "id": "be7e5fb1-22ec-4abb-9653-9ba034849261",
   "metadata": {},
   "outputs": [
    {
     "data": {
      "text/plain": [
       "['MALE', 'FEMALE', 'OTHER']"
      ]
     },
     "execution_count": 8,
     "metadata": {},
     "output_type": "execute_result"
    }
   ],
   "source": [
    "Profile.Gender.names"
   ]
  },
  {
   "cell_type": "code",
   "execution_count": 31,
   "id": "ddeeeb20-8e58-4013-90bd-b8bee8d01181",
   "metadata": {},
   "outputs": [
    {
     "data": {
      "text/plain": [
       "<QuerySet [<Profile: Admin's Profile>]>"
      ]
     },
     "execution_count": 31,
     "metadata": {},
     "output_type": "execute_result"
    }
   ],
   "source": [
    "Profile.objects.all()"
   ]
  },
  {
   "cell_type": "code",
   "execution_count": null,
   "id": "e6dd7e34-251e-422d-9502-01919695b2c9",
   "metadata": {},
   "outputs": [],
   "source": []
  },
  {
   "cell_type": "code",
   "execution_count": null,
   "id": "ff9da23c-f57b-4a92-8905-f5a0590f82eb",
   "metadata": {},
   "outputs": [],
   "source": []
  },
  {
   "cell_type": "code",
   "execution_count": null,
   "id": "eb383e0c-4a09-4bbb-9b0d-4acc58d836e8",
   "metadata": {},
   "outputs": [],
   "source": []
  },
  {
   "cell_type": "code",
   "execution_count": null,
   "id": "6b6974f3-bad5-4984-86a8-13e4d55f6531",
   "metadata": {},
   "outputs": [],
   "source": []
  },
  {
   "cell_type": "markdown",
   "id": "38b2a0cb-7fef-4c70-986e-668cc6a0e78f",
   "metadata": {},
   "source": [
    "## Steps to Create a User:\n",
    "* Documentation: http://localhost:1337/redoc/\n",
    "\n",
    "### Registration: \n",
    "* http://localhost:1337/api/v1/auth/registration/\n",
    "```json\n",
    "{\n",
    "    \"email\": \"test@test.com\",\n",
    "    \"password1\": \"test1234!\",\n",
    "    \"password2\": \"test1234!\",\n",
    "    \"first_name\": \"test\",\n",
    "    \"last_name\": \"test\"\n",
    "}\n",
    "```\n",
    "\n",
    "### Verification:\n",
    "* http://localhost:1337/api/v1/auth/registration/verify-email/\n",
    "```json\n",
    "{\n",
    "    \"key\": \"<Fetch it From MailHog>\"\n",
    "}\n",
    "```\n",
    "\n",
    "### Login User:\n",
    "* http://localhost:1337/api/v1/auth/login/\n",
    "```json\n",
    "{\n",
    "    \"username\": \"test\",\n",
    "    \"email\": \"test@test.com\",\n",
    "    \"password\": \"test1234!\"\n",
    "}\n",
    "```\n"
   ]
  },
  {
   "cell_type": "code",
   "execution_count": null,
   "id": "c7fff2f2-12da-4ad9-87cc-47c17bcd2908",
   "metadata": {},
   "outputs": [],
   "source": []
  }
 ],
 "metadata": {
  "kernelspec": {
   "display_name": "Python 3 (ipykernel)",
   "language": "python",
   "name": "python3"
  },
  "language_info": {
   "codemirror_mode": {
    "name": "ipython",
    "version": 3
   },
   "file_extension": ".py",
   "mimetype": "text/x-python",
   "name": "python",
   "nbconvert_exporter": "python",
   "pygments_lexer": "ipython3",
   "version": "3.11.2"
  }
 },
 "nbformat": 4,
 "nbformat_minor": 5
}
